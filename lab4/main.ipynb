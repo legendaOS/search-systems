{
 "cells": [
  {
   "attachments": {},
   "cell_type": "markdown",
   "metadata": {},
   "source": [
    "получение текстов"
   ]
  },
  {
   "cell_type": "code",
   "execution_count": 6,
   "metadata": {},
   "outputs": [
    {
     "data": {
      "text/plain": [
       "['Joe biden rules out 2020 bid guys im not running',\n",
       " 'Watch darvish gave hitter whiplash with slow pitch',\n",
       " 'What do you call a turtle without its shell dead']"
      ]
     },
     "execution_count": 6,
     "metadata": {},
     "output_type": "execute_result"
    }
   ],
   "source": [
    "import pandas as pd\n",
    "df = pd.read_csv('dataset.csv')\n",
    "\n",
    "buf_list_s = [element[0] for element in df.values]\n",
    "list_of_anecdots = []\n",
    "\n",
    "import string\n",
    "\n",
    "for s in buf_list_s:\n",
    "    table = str.maketrans(dict.fromkeys(string.punctuation))\n",
    "    new_s = s.translate(table)\n",
    "    list_of_anecdots.append(new_s)\n",
    "\n",
    "list_of_anecdots[:3]"
   ]
  },
  {
   "attachments": {},
   "cell_type": "markdown",
   "metadata": {},
   "source": [
    "выбираем длину шингла"
   ]
  },
  {
   "cell_type": "code",
   "execution_count": 3,
   "metadata": {},
   "outputs": [],
   "source": [
    "lenght_of_shingle = 3"
   ]
  },
  {
   "attachments": {},
   "cell_type": "markdown",
   "metadata": {},
   "source": [
    "функция сравнения двух текстов"
   ]
  },
  {
   "cell_type": "code",
   "execution_count": 8,
   "metadata": {},
   "outputs": [
    {
     "data": {
      "text/plain": [
       "[18, 17, 10, 17, 19, 35]"
      ]
     },
     "execution_count": 8,
     "metadata": {},
     "output_type": "execute_result"
    }
   ],
   "source": [
    "from thefuzz import fuzz\n",
    "\n",
    "def texts_shingle_list_ratio(first, second, lenght):\n",
    "    f = first.split(' ')\n",
    "    s = second.split(' ')\n",
    "    razbienie_first = [f[i:i+lenght] for i in range(0, len(f) - lenght)]\n",
    "    razbienie_second = [s[i:i+lenght] for i in range(0, len(s) - lenght)]\n",
    "\n",
    "    # print(razbienie_first)\n",
    "    # print(razbienie_second)\n",
    "\n",
    "    scores = []\n",
    "\n",
    "    for f_elem, s_elem in zip(razbienie_first, razbienie_second):\n",
    "        score = fuzz.ratio(' '.join(f_elem), ' '.join(s_elem))\n",
    "        scores.append(score)\n",
    "\n",
    "    return scores\n",
    "\n",
    "\n",
    "\n",
    "result = texts_shingle_list_ratio(list_of_anecdots[0], list_of_anecdots[1], lenght_of_shingle)\n",
    "\n",
    "result\n"
   ]
  },
  {
   "attachments": {},
   "cell_type": "markdown",
   "metadata": {},
   "source": [
    "поиск дупликатов"
   ]
  },
  {
   "cell_type": "code",
   "execution_count": null,
   "metadata": {},
   "outputs": [],
   "source": []
  },
  {
   "attachments": {},
   "cell_type": "markdown",
   "metadata": {},
   "source": [
    "применение функции и вывод результата"
   ]
  },
  {
   "cell_type": "code",
   "execution_count": null,
   "metadata": {},
   "outputs": [],
   "source": []
  }
 ],
 "metadata": {
  "kernelspec": {
   "display_name": "Python 3",
   "language": "python",
   "name": "python3"
  },
  "language_info": {
   "codemirror_mode": {
    "name": "ipython",
    "version": 3
   },
   "file_extension": ".py",
   "mimetype": "text/x-python",
   "name": "python",
   "nbconvert_exporter": "python",
   "pygments_lexer": "ipython3",
   "version": "3.8.0"
  },
  "orig_nbformat": 4
 },
 "nbformat": 4,
 "nbformat_minor": 2
}
